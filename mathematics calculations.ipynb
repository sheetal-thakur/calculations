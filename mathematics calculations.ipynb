{
 "cells": [
  {
   "cell_type": "code",
   "execution_count": 89,
   "id": "0408885f",
   "metadata": {},
   "outputs": [],
   "source": [
    "import pandas as pd # pandas to read csv sheet\n",
    "import numpy as np # NumPy is a Python package that stands for 'Numerical Python'"
   ]
  },
  {
   "cell_type": "code",
   "execution_count": 90,
   "id": "c1faa6ff",
   "metadata": {},
   "outputs": [
    {
     "name": "stdout",
     "output_type": "stream",
     "text": [
      "Requirement already satisfied: sympy in c:\\users\\thaku\\anaconda3\\lib\\site-packages (1.10.1)\n",
      "Requirement already satisfied: mpmath>=0.19 in c:\\users\\thaku\\anaconda3\\lib\\site-packages (from sympy) (1.2.1)\n",
      "Note: you may need to restart the kernel to use updated packages.\n"
     ]
    }
   ],
   "source": [
    "pip install sympy #SymPy is a Python library for symbolic mathematics"
   ]
  },
  {
   "cell_type": "code",
   "execution_count": 91,
   "id": "9af6e846",
   "metadata": {},
   "outputs": [
    {
     "data": {
      "text/latex": [
       "$\\displaystyle x^{2} + y^{2}$"
      ],
      "text/plain": [
       "x**2 + y**2"
      ]
     },
     "execution_count": 91,
     "metadata": {},
     "output_type": "execute_result"
    }
   ],
   "source": [
    "#SymPy includes features ranging from basic symbolic arithmetic to calculus, algebra, discrete mathematics, and quantum physics.\n",
    "from  sympy import Symbol\n",
    "x = Symbol('x')\n",
    "y = Symbol('y')\n",
    "exp = x**2 + y**2\n",
    "exp"
   ]
  },
  {
   "cell_type": "code",
   "execution_count": 92,
   "id": "ebc629d7",
   "metadata": {},
   "outputs": [
    {
     "data": {
      "text/latex": [
       "$\\displaystyle x^{2} + y^{2}$"
      ],
      "text/plain": [
       "x**2 + y**2"
      ]
     },
     "execution_count": 92,
     "metadata": {},
     "output_type": "execute_result"
    }
   ],
   "source": [
    "from  sympy .abc import x,y #In SymPy's abc module, all Latin and Greek alphabets are defined as symbols\n",
    "exp = x**2 + y**2\n",
    "exp"
   ]
  },
  {
   "cell_type": "code",
   "execution_count": 93,
   "id": "1d839140",
   "metadata": {},
   "outputs": [
    {
     "data": {
      "text/latex": [
       "$\\displaystyle p^{2} - q^{2}$"
      ],
      "text/plain": [
       "p**2 - q**2"
      ]
     },
     "execution_count": 93,
     "metadata": {},
     "output_type": "execute_result"
    }
   ],
   "source": [
    "from  sympy .abc import p,q\n",
    "exp = p**2 - q**2\n",
    "exp"
   ]
  },
  {
   "cell_type": "code",
   "execution_count": 94,
   "id": "96e0196d",
   "metadata": {},
   "outputs": [
    {
     "data": {
      "text/latex": [
       "$\\displaystyle \\sin^{2}{\\left(x \\right)} + \\cos{\\left(x \\right)} \\cos{\\left(y \\right)}$"
      ],
      "text/plain": [
       "sin(x)**2 + cos(x)*cos(y)"
      ]
     },
     "execution_count": 94,
     "metadata": {},
     "output_type": "execute_result"
    }
   ],
   "source": [
    "from  sympy import * #It simply says that you want all of the module's variables imported into your module's namespace.\n",
    "exp = sin(x)* sin(x)+ cos(x)*cos(y)\n",
    "exp"
   ]
  },
  {
   "cell_type": "code",
   "execution_count": 95,
   "id": "afb8748f",
   "metadata": {},
   "outputs": [
    {
     "data": {
      "text/latex": [
       "$\\displaystyle \\sin^{2}{\\left(x \\right)} + \\cos{\\left(x \\right)} \\cos{\\left(y \\right)}$"
      ],
      "text/plain": [
       "sin(x)**2 + cos(x)*cos(y)"
      ]
     },
     "execution_count": 95,
     "metadata": {},
     "output_type": "execute_result"
    }
   ],
   "source": [
    "from  sympy import * \n",
    "from  sympy.abc import x\n",
    "exp = sin(x)* sin(x)+ cos(x)*cos(y)\n",
    "exp"
   ]
  },
  {
   "cell_type": "code",
   "execution_count": 96,
   "id": "3b94cb8a",
   "metadata": {},
   "outputs": [
    {
     "data": {
      "text/latex": [
       "$\\displaystyle \\sin^{2}{\\left(a \\right)} + \\cos{\\left(a \\right)} \\cos{\\left(y \\right)}$"
      ],
      "text/plain": [
       "sin(a)**2 + cos(a)*cos(y)"
      ]
     },
     "execution_count": 96,
     "metadata": {},
     "output_type": "execute_result"
    }
   ],
   "source": [
    "exp1 = exp.subs(x,a)# sub is for substitution here x is replaced by a\n",
    "exp1"
   ]
  },
  {
   "cell_type": "code",
   "execution_count": 97,
   "id": "4aeac55b",
   "metadata": {},
   "outputs": [
    {
     "data": {
      "text/latex": [
       "$\\displaystyle a^{2} + 2 a + 5$"
      ],
      "text/plain": [
       "a**2 + 2*a + 5"
      ]
     },
     "execution_count": 97,
     "metadata": {},
     "output_type": "execute_result"
    }
   ],
   "source": [
    "exp = a*a+2*a+5\n",
    "exp"
   ]
  },
  {
   "cell_type": "code",
   "execution_count": 98,
   "id": "66d7a74c",
   "metadata": {},
   "outputs": [
    {
     "data": {
      "text/latex": [
       "$\\displaystyle 40$"
      ],
      "text/plain": [
       "40"
      ]
     },
     "execution_count": 98,
     "metadata": {},
     "output_type": "execute_result"
    }
   ],
   "source": [
    "exp2 = exp.subs(a,5)\n",
    "exp2"
   ]
  },
  {
   "cell_type": "code",
   "execution_count": 99,
   "id": "e7d55b3c",
   "metadata": {},
   "outputs": [
    {
     "data": {
      "text/latex": [
       "$\\displaystyle \\left(a + b\\right)^{2}$"
      ],
      "text/plain": [
       "(a + b)**2"
      ]
     },
     "execution_count": 99,
     "metadata": {},
     "output_type": "execute_result"
    }
   ],
   "source": [
    "from  sympy.abc import a,b\n",
    "exp = (a+b)**2\n",
    "exp"
   ]
  },
  {
   "cell_type": "code",
   "execution_count": 100,
   "id": "ab53394e",
   "metadata": {},
   "outputs": [
    {
     "data": {
      "text/latex": [
       "$\\displaystyle \\left(2 a + b\\right)^{2}$"
      ],
      "text/plain": [
       "(2*a + b)**2"
      ]
     },
     "execution_count": 100,
     "metadata": {},
     "output_type": "execute_result"
    }
   ],
   "source": [
    "exp3 = exp.subs(b,a+b)\n",
    "exp3"
   ]
  },
  {
   "cell_type": "code",
   "execution_count": 101,
   "id": "56640a86",
   "metadata": {},
   "outputs": [
    {
     "data": {
      "text/latex": [
       "$\\displaystyle 4$"
      ],
      "text/plain": [
       "4"
      ]
     },
     "execution_count": 101,
     "metadata": {},
     "output_type": "execute_result"
    }
   ],
   "source": [
    "sympify(\"10/5+4/2\") # simplification it just gives the answer without specifying the evaluate, it automatically considers,\n",
    "                    #evaluate is true"
   ]
  },
  {
   "cell_type": "code",
   "execution_count": 102,
   "id": "ace593e7",
   "metadata": {},
   "outputs": [
    {
     "data": {
      "text/latex": [
       "$\\displaystyle \\frac{10}{5} + \\frac{4}{2}$"
      ],
      "text/plain": [
       "10/5 + 4/2"
      ]
     },
     "execution_count": 102,
     "metadata": {},
     "output_type": "execute_result"
    }
   ],
   "source": [
    "sympify(\"10/5+4/2\" , evaluate=False) # simplification without evaluate if evaluate is True then it will give only solution not\n",
    "                                     # how the expression will evaluate."
   ]
  },
  {
   "cell_type": "code",
   "execution_count": 103,
   "id": "18e69a52",
   "metadata": {},
   "outputs": [
    {
     "data": {
      "text/latex": [
       "$\\displaystyle \\pi r^{2}$"
      ],
      "text/plain": [
       "pi*r**2"
      ]
     },
     "execution_count": 103,
     "metadata": {},
     "output_type": "execute_result"
    }
   ],
   "source": [
    "from  sympy.abc import r\n",
    "exp = pi*r**2\n",
    "exp"
   ]
  },
  {
   "cell_type": "code",
   "execution_count": 104,
   "id": "7e873c51",
   "metadata": {},
   "outputs": [
    {
     "data": {
      "text/latex": [
       "$\\displaystyle 31.4$"
      ],
      "text/plain": [
       "31.4000000000000"
      ]
     },
     "execution_count": 104,
     "metadata": {},
     "output_type": "execute_result"
    }
   ],
   "source": [
    "from  sympy.abc import r\n",
    "exp = 2*pi*r\n",
    "exp1 = exp.subs([(r,5),(pi,3.14)]) \n",
    "exp1"
   ]
  },
  {
   "cell_type": "code",
   "execution_count": 105,
   "id": "830a62b1",
   "metadata": {},
   "outputs": [
    {
     "data": {
      "text/latex": [
       "$\\displaystyle b l$"
      ],
      "text/plain": [
       "b*l"
      ]
     },
     "execution_count": 105,
     "metadata": {},
     "output_type": "execute_result"
    }
   ],
   "source": [
    "from  sympy.abc import l,b\n",
    "exp = l*b\n",
    "exp"
   ]
  },
  {
   "cell_type": "code",
   "execution_count": 106,
   "id": "e821e9af",
   "metadata": {},
   "outputs": [
    {
     "data": {
      "text/latex": [
       "$\\displaystyle 2 b + 2 l$"
      ],
      "text/plain": [
       "2*b + 2*l"
      ]
     },
     "execution_count": 106,
     "metadata": {},
     "output_type": "execute_result"
    }
   ],
   "source": [
    "from  sympy.abc import l,b\n",
    "exp = 2*(l+b)\n",
    "exp"
   ]
  },
  {
   "cell_type": "code",
   "execution_count": 107,
   "id": "4d5d3344",
   "metadata": {},
   "outputs": [
    {
     "data": {
      "text/plain": [
       "627.8831939138764"
      ]
     },
     "execution_count": 107,
     "metadata": {},
     "output_type": "execute_result"
    }
   ],
   "source": [
    "exp = 1/sin(x)     # here we assign the function in the lamdify we assign the parameters x and exp after that we give                    #the value of x\n",
    "f = lambdify(x,exp)\n",
    "f(3.14)"
   ]
  },
  {
   "cell_type": "code",
   "execution_count": 108,
   "id": "e207776f",
   "metadata": {},
   "outputs": [
    {
     "data": {
      "text/plain": [
       "30.974846927333925"
      ]
     },
     "execution_count": 108,
     "metadata": {},
     "output_type": "execute_result"
    }
   ],
   "source": [
    "exp = pi*r**2\n",
    "f = lambdify(r,exp)\n",
    "f(3.14)"
   ]
  },
  {
   "cell_type": "code",
   "execution_count": 109,
   "id": "84a4ba22",
   "metadata": {},
   "outputs": [
    {
     "data": {
      "text/plain": [
       "12.56"
      ]
     },
     "execution_count": 109,
     "metadata": {},
     "output_type": "execute_result"
    }
   ],
   "source": [
    "3.14*2*2"
   ]
  },
  {
   "cell_type": "code",
   "execution_count": 110,
   "id": "25cf4614",
   "metadata": {},
   "outputs": [
    {
     "data": {
      "text/latex": [
       "$\\displaystyle x^{2} + y^{2} + z^{2}$"
      ],
      "text/plain": [
       "x**2 + y**2 + z**2"
      ]
     },
     "execution_count": 110,
     "metadata": {},
     "output_type": "execute_result"
    }
   ],
   "source": [
    "from  sympy .abc import x,y,z\n",
    "exp = x**2 + y**2 +z**2\n",
    "exp"
   ]
  },
  {
   "cell_type": "code",
   "execution_count": 111,
   "id": "58a83132",
   "metadata": {},
   "outputs": [
    {
     "data": {
      "text/latex": [
       "$\\displaystyle 29.0$"
      ],
      "text/plain": [
       "29.0000000000000"
      ]
     },
     "execution_count": 111,
     "metadata": {},
     "output_type": "execute_result"
    }
   ],
   "source": [
    "exp.evalf(subs={x:3 , y :2,z :4}) # here we replace 3 values with making a dictioanry."
   ]
  },
  {
   "cell_type": "code",
   "execution_count": 112,
   "id": "187a7df0",
   "metadata": {},
   "outputs": [
    {
     "data": {
      "text/latex": [
       "$\\displaystyle 0.5$"
      ],
      "text/plain": [
       "0.500000000000000"
      ]
     },
     "execution_count": 112,
     "metadata": {},
     "output_type": "execute_result"
    }
   ],
   "source": [
    "exp = a/b\n",
    "exp.evalf(subs={a:5 ,b:10})"
   ]
  },
  {
   "cell_type": "code",
   "execution_count": 113,
   "id": "dbde5734",
   "metadata": {},
   "outputs": [
    {
     "data": {
      "text/plain": [
       "20"
      ]
     },
     "execution_count": 113,
     "metadata": {},
     "output_type": "execute_result"
    }
   ],
   "source": [
    "exp = a**2+b**2\n",
    "f = lambdify([a,b],exp)\n",
    "f(2,4)"
   ]
  },
  {
   "cell_type": "code",
   "execution_count": 114,
   "id": "f99c0bae",
   "metadata": {},
   "outputs": [
    {
     "data": {
      "text/latex": [
       "$\\displaystyle 1$"
      ],
      "text/plain": [
       "1"
      ]
     },
     "execution_count": 114,
     "metadata": {},
     "output_type": "execute_result"
    }
   ],
   "source": [
    "exp = sin(x)**2+cos(x)**2\n",
    "simplify(exp)"
   ]
  },
  {
   "cell_type": "code",
   "execution_count": 115,
   "id": "80e1fbaf",
   "metadata": {},
   "outputs": [
    {
     "data": {
      "text/latex": [
       "$\\displaystyle a^{2} + 2 a b + b^{2}$"
      ],
      "text/plain": [
       "a**2 + 2*a*b + b**2"
      ]
     },
     "execution_count": 115,
     "metadata": {},
     "output_type": "execute_result"
    }
   ],
   "source": [
    "expand((a+b)**2) # here expand the equation"
   ]
  },
  {
   "cell_type": "code",
   "execution_count": 116,
   "id": "a9925c72",
   "metadata": {},
   "outputs": [
    {
     "data": {
      "text/latex": [
       "$\\displaystyle a^{3} + 3 a^{2} b + 3 a b^{2} + b^{3}$"
      ],
      "text/plain": [
       "a**3 + 3*a**2*b + 3*a*b**2 + b**3"
      ]
     },
     "execution_count": 116,
     "metadata": {},
     "output_type": "execute_result"
    }
   ],
   "source": [
    "expand((a+b)**3)"
   ]
  },
  {
   "cell_type": "code",
   "execution_count": 117,
   "id": "5eb9e674",
   "metadata": {},
   "outputs": [
    {
     "data": {
      "text/latex": [
       "$\\displaystyle a^{3} - 3 a^{2} b + 3 a b^{2} - b^{3}$"
      ],
      "text/plain": [
       "a**3 - 3*a**2*b + 3*a*b**2 - b**3"
      ]
     },
     "execution_count": 117,
     "metadata": {},
     "output_type": "execute_result"
    }
   ],
   "source": [
    "expand((a-b)**3)"
   ]
  },
  {
   "cell_type": "code",
   "execution_count": 118,
   "id": "7f0b473d",
   "metadata": {},
   "outputs": [
    {
     "data": {
      "text/latex": [
       "$\\displaystyle a^{2} - b^{2}$"
      ],
      "text/plain": [
       "a**2 - b**2"
      ]
     },
     "execution_count": 118,
     "metadata": {},
     "output_type": "execute_result"
    }
   ],
   "source": [
    "expand((a+b)*+(a-b))"
   ]
  },
  {
   "cell_type": "code",
   "execution_count": 119,
   "id": "b089dd92",
   "metadata": {},
   "outputs": [
    {
     "data": {
      "text/latex": [
       "$\\displaystyle x^{2} z + 4 x y z + 4 y^{2} z$"
      ],
      "text/plain": [
       "x**2*z + 4*x*y*z + 4*y**2*z"
      ]
     },
     "execution_count": 119,
     "metadata": {},
     "output_type": "execute_result"
    }
   ],
   "source": [
    "exp = (x**2*z + 4*x*y*z + 4*y**2*z)\n",
    "exp"
   ]
  },
  {
   "cell_type": "code",
   "execution_count": 120,
   "id": "6c66dcfc",
   "metadata": {},
   "outputs": [
    {
     "data": {
      "text/latex": [
       "$\\displaystyle z \\left(x + 2 y\\right)^{2}$"
      ],
      "text/plain": [
       "z*(x + 2*y)**2"
      ]
     },
     "execution_count": 120,
     "metadata": {},
     "output_type": "execute_result"
    }
   ],
   "source": [
    "from  sympy .abc import x,y\n",
    "exp = (x**2*z + 4*x*y*z + 4*y**2*z)\n",
    "factor(exp)                    # here it shows the factors of expression z is common its outside from bracket square of x+2y"
   ]
  },
  {
   "cell_type": "code",
   "execution_count": 121,
   "id": "c851a453",
   "metadata": {},
   "outputs": [
    {
     "data": {
      "text/latex": [
       "$\\displaystyle \\left(x + 1\\right)^{2}$"
      ],
      "text/plain": [
       "(x + 1)**2"
      ]
     },
     "execution_count": 121,
     "metadata": {},
     "output_type": "execute_result"
    }
   ],
   "source": [
    "exp = x**2 + 2*x +1\n",
    "factor(exp)"
   ]
  },
  {
   "cell_type": "code",
   "execution_count": 122,
   "id": "da7ecb0b",
   "metadata": {},
   "outputs": [
    {
     "data": {
      "text/plain": [
       "(1, [(z, 1), (x + 2*y, 2)])"
      ]
     },
     "execution_count": 122,
     "metadata": {},
     "output_type": "execute_result"
    }
   ],
   "source": [
    "exp = (x**2*z + 4*x*y*z + 4*y**2*z)\n",
    "factor_list(exp) #it shows factors in list as z is one time , x+2*y is 2 times."
   ]
  },
  {
   "cell_type": "code",
   "execution_count": 123,
   "id": "d7da72b0",
   "metadata": {},
   "outputs": [
    {
     "data": {
      "text/plain": [
       "(1, [(x + 1, 2)])"
      ]
     },
     "execution_count": 123,
     "metadata": {},
     "output_type": "execute_result"
    }
   ],
   "source": [
    "exp = x**2 + 2*x +1\n",
    "factor_list(exp)"
   ]
  },
  {
   "cell_type": "code",
   "execution_count": 124,
   "id": "d1050e09",
   "metadata": {},
   "outputs": [
    {
     "data": {
      "text/latex": [
       "$\\displaystyle x + 1$"
      ],
      "text/plain": [
       "x + 1"
      ]
     },
     "execution_count": 124,
     "metadata": {},
     "output_type": "execute_result"
    }
   ],
   "source": [
    "exp = x**2 + x*2 +1\n",
    "exp1 = x+1\n",
    "simplify(exp/exp1)"
   ]
  },
  {
   "cell_type": "code",
   "execution_count": 125,
   "id": "b7fabe4c",
   "metadata": {},
   "outputs": [
    {
     "data": {
      "text/latex": [
       "$\\displaystyle x + 1$"
      ],
      "text/plain": [
       "x + 1"
      ]
     },
     "execution_count": 125,
     "metadata": {},
     "output_type": "execute_result"
    }
   ],
   "source": [
    "exp = x**2 + x*2 +1\n",
    "exp1 = x+1\n",
    "cancel(exp/exp1)"
   ]
  },
  {
   "cell_type": "code",
   "execution_count": 126,
   "id": "1b88f240",
   "metadata": {},
   "outputs": [
    {
     "data": {
      "text/latex": [
       "$\\displaystyle \\frac{z \\left(x^{2} + 4 x y + 4 y^{2}\\right)}{x^{2} + 2 x + 1}$"
      ],
      "text/plain": [
       "z*(x**2 + 4*x*y + 4*y**2)/(x**2 + 2*x + 1)"
      ]
     },
     "execution_count": 126,
     "metadata": {},
     "output_type": "execute_result"
    }
   ],
   "source": [
    "exp = (x**2*z + 4*x*y*z + 4*y**2*z)\n",
    "exp1 = (x**2 + x*2 +1)\n",
    "simplify(exp/exp1) # in this common one is outside from the bracket"
   ]
  },
  {
   "cell_type": "code",
   "execution_count": 127,
   "id": "8702b9e6",
   "metadata": {},
   "outputs": [
    {
     "data": {
      "text/latex": [
       "$\\displaystyle \\frac{x^{2} z + 4 x y z + 4 y^{2} z}{x^{2} + 2 x + 1}$"
      ],
      "text/plain": [
       "(x**2*z + 4*x*y*z + 4*y**2*z)/(x**2 + 2*x + 1)"
      ]
     },
     "execution_count": 127,
     "metadata": {},
     "output_type": "execute_result"
    }
   ],
   "source": [
    "exp = (x**2*z + 4*x*y*z + 4*y**2*z)\n",
    "exp1 = (x**2 + x*2 +1)\n",
    "cancel(exp/exp1)      # while using cancel common one will not be outside its in the expression"
   ]
  },
  {
   "cell_type": "code",
   "execution_count": 128,
   "id": "981f75c0",
   "metadata": {},
   "outputs": [
    {
     "data": {
      "text/latex": [
       "$\\displaystyle \\frac{1}{\\sin{\\left(x \\right)}}$"
      ],
      "text/plain": [
       "1/sin(x)"
      ]
     },
     "execution_count": 128,
     "metadata": {},
     "output_type": "execute_result"
    }
   ],
   "source": [
    "exp = 1/sin(x)**2\n",
    "exp1 = sin(x)\n",
    "cancel(exp*exp1)"
   ]
  },
  {
   "cell_type": "code",
   "execution_count": 129,
   "id": "25a4d354",
   "metadata": {},
   "outputs": [
    {
     "data": {
      "text/latex": [
       "$\\displaystyle \\frac{1}{\\sin{\\left(x \\right)}}$"
      ],
      "text/plain": [
       "1/sin(x)"
      ]
     },
     "execution_count": 129,
     "metadata": {},
     "output_type": "execute_result"
    }
   ],
   "source": [
    "exp = 1/sin(x)**2\n",
    "exp1 = sin(x)\n",
    "simplify(exp*exp1)"
   ]
  },
  {
   "cell_type": "code",
   "execution_count": 130,
   "id": "3b6a338f",
   "metadata": {},
   "outputs": [
    {
     "data": {
      "text/latex": [
       "$\\displaystyle 720$"
      ],
      "text/plain": [
       "720"
      ]
     },
     "execution_count": 130,
     "metadata": {},
     "output_type": "execute_result"
    }
   ],
   "source": [
    "factorial(6)    # factorial of 6"
   ]
  },
  {
   "cell_type": "code",
   "execution_count": 131,
   "id": "15f67eaf",
   "metadata": {},
   "outputs": [
    {
     "data": {
      "text/latex": [
       "$\\displaystyle 6$"
      ],
      "text/plain": [
       "6"
      ]
     },
     "execution_count": 131,
     "metadata": {},
     "output_type": "execute_result"
    }
   ],
   "source": [
    "factorial(3)"
   ]
  },
  {
   "cell_type": "code",
   "execution_count": 132,
   "id": "627fe86b",
   "metadata": {},
   "outputs": [
    {
     "data": {
      "text/plain": [
       "24.0"
      ]
     },
     "execution_count": 132,
     "metadata": {},
     "output_type": "execute_result"
    }
   ],
   "source": [
    "exp = factorial(x)\n",
    "f = lambdify(x,exp)\n",
    "f(4)                      "
   ]
  },
  {
   "cell_type": "code",
   "execution_count": 133,
   "id": "d67c64cc",
   "metadata": {},
   "outputs": [
    {
     "data": {
      "text/latex": [
       "$\\displaystyle \\frac{x!}{\\left(x - 4\\right)!}$"
      ],
      "text/plain": [
       "factorial(x)/factorial(x - 4)"
      ]
     },
     "execution_count": 133,
     "metadata": {},
     "output_type": "execute_result"
    }
   ],
   "source": [
    "exp = factorial(x)/factorial(x-4)\n",
    "exp"
   ]
  },
  {
   "cell_type": "code",
   "execution_count": 134,
   "id": "57459e51",
   "metadata": {},
   "outputs": [
    {
     "data": {
      "text/latex": [
       "$\\displaystyle x \\left(x - 3\\right) \\left(x - 2\\right) \\left(x - 1\\right)$"
      ],
      "text/plain": [
       "x*(x - 3)*(x - 2)*(x - 1)"
      ]
     },
     "execution_count": 134,
     "metadata": {},
     "output_type": "execute_result"
    }
   ],
   "source": [
    "combsimp(exp)  #we can simplify combinatorial expressions."
   ]
  },
  {
   "cell_type": "code",
   "execution_count": 135,
   "id": "81fe29a2",
   "metadata": {},
   "outputs": [
    {
     "data": {
      "text/latex": [
       "$\\displaystyle 3$"
      ],
      "text/plain": [
       "3"
      ]
     },
     "execution_count": 135,
     "metadata": {},
     "output_type": "execute_result"
    }
   ],
   "source": [
    "binomial(3,2)   # binomial "
   ]
  },
  {
   "cell_type": "code",
   "execution_count": 136,
   "id": "0464d9dc",
   "metadata": {},
   "outputs": [
    {
     "data": {
      "text/latex": [
       "$\\displaystyle 2$"
      ],
      "text/plain": [
       "2"
      ]
     },
     "execution_count": 136,
     "metadata": {},
     "output_type": "execute_result"
    }
   ],
   "source": [
    "binomial(2,1)"
   ]
  },
  {
   "cell_type": "code",
   "execution_count": 137,
   "id": "ad3fd834",
   "metadata": {},
   "outputs": [
    {
     "data": {
      "text/latex": [
       "$\\displaystyle 10$"
      ],
      "text/plain": [
       "10"
      ]
     },
     "execution_count": 137,
     "metadata": {},
     "output_type": "execute_result"
    }
   ],
   "source": [
    "binomial(5,2)"
   ]
  },
  {
   "cell_type": "code",
   "execution_count": 138,
   "id": "ffd9819c",
   "metadata": {},
   "outputs": [
    {
     "data": {
      "text/latex": [
       "$\\displaystyle 153$"
      ],
      "text/plain": [
       "153"
      ]
     },
     "execution_count": 138,
     "metadata": {},
     "output_type": "execute_result"
    }
   ],
   "source": [
    "binomial(18,2)"
   ]
  },
  {
   "cell_type": "code",
   "execution_count": 139,
   "id": "b617eea9",
   "metadata": {},
   "outputs": [
    {
     "data": {
      "text/latex": [
       "$\\displaystyle \\frac{{\\binom{x + 1}{y + 1}}}{{\\binom{x}{y}}}$"
      ],
      "text/plain": [
       "binomial(x + 1, y + 1)/binomial(x, y)"
      ]
     },
     "execution_count": 139,
     "metadata": {},
     "output_type": "execute_result"
    }
   ],
   "source": [
    "binomial(x+1,y+1)/binomial(x,y)"
   ]
  },
  {
   "cell_type": "code",
   "execution_count": 140,
   "id": "7ae8b3f7",
   "metadata": {},
   "outputs": [
    {
     "data": {
      "text/latex": [
       "$\\displaystyle a \\log{\\left(x \\right)} + \\log{\\left(y \\right)} - \\log{\\left(z \\right)}$"
      ],
      "text/plain": [
       "a*log(x) + log(y) - log(z)"
      ]
     },
     "execution_count": 140,
     "metadata": {},
     "output_type": "execute_result"
    }
   ],
   "source": [
    "logcombine(a*log(x)+log(y)-log(z)) # with log "
   ]
  },
  {
   "cell_type": "code",
   "execution_count": 141,
   "id": "400138b2",
   "metadata": {},
   "outputs": [
    {
     "data": {
      "text/latex": [
       "$\\displaystyle \\log{\\left(\\frac{x^{a} y}{z} \\right)}$"
      ],
      "text/plain": [
       "log(x**a*y/z)"
      ]
     },
     "execution_count": 141,
     "metadata": {},
     "output_type": "execute_result"
    }
   ],
   "source": [
    "logcombine(a*log(x)+log(y)-log(z), force= True)# in log addition for multiplication and division for subtraction , \n",
    "                                              #force is equals to True it takes common one outside."
   ]
  },
  {
   "cell_type": "code",
   "execution_count": 142,
   "id": "f49a0fb1",
   "metadata": {},
   "outputs": [
    {
     "data": {
      "text/latex": [
       "$\\displaystyle 2 b$"
      ],
      "text/plain": [
       "2*b"
      ]
     },
     "execution_count": 142,
     "metadata": {},
     "output_type": "execute_result"
    }
   ],
   "source": [
    "diff(a**2 +b**2,b) # diff means derivatives in this it takes the derivative of b and a is constant."
   ]
  },
  {
   "cell_type": "code",
   "execution_count": 143,
   "id": "f496acf8",
   "metadata": {},
   "outputs": [
    {
     "data": {
      "text/latex": [
       "$\\displaystyle 2 a$"
      ],
      "text/plain": [
       "2*a"
      ]
     },
     "execution_count": 143,
     "metadata": {},
     "output_type": "execute_result"
    }
   ],
   "source": [
    "diff(a**2 +b**2,a)   #in this it takes the derivative of a and b is constant."
   ]
  },
  {
   "cell_type": "code",
   "execution_count": 144,
   "id": "76f6bc1a",
   "metadata": {},
   "outputs": [],
   "source": [
    "from sympy.abc import f\n"
   ]
  },
  {
   "cell_type": "code",
   "execution_count": 145,
   "id": "57a457c3",
   "metadata": {},
   "outputs": [
    {
     "data": {
      "text/latex": [
       "$\\displaystyle x \\sin{\\left(x^{2} \\right)} + 1$"
      ],
      "text/plain": [
       "x*sin(x**2) + 1"
      ]
     },
     "execution_count": 145,
     "metadata": {},
     "output_type": "execute_result"
    }
   ],
   "source": [
    "exp =x*sin(x*x)+1\n",
    "exp"
   ]
  },
  {
   "cell_type": "code",
   "execution_count": 146,
   "id": "e76ba208",
   "metadata": {},
   "outputs": [
    {
     "data": {
      "text/latex": [
       "$\\displaystyle 2 x^{2} \\cos{\\left(x^{2} \\right)} + \\sin{\\left(x^{2} \\right)}$"
      ],
      "text/plain": [
       "2*x**2*cos(x**2) + sin(x**2)"
      ]
     },
     "execution_count": 146,
     "metadata": {},
     "output_type": "execute_result"
    }
   ],
   "source": [
    "diff(x*sin(x*x)+1)  # derivative of sin is cos then then derivative of x*x is 2x"
   ]
  },
  {
   "cell_type": "code",
   "execution_count": 147,
   "id": "7d88ff44",
   "metadata": {},
   "outputs": [
    {
     "data": {
      "text/latex": [
       "$\\displaystyle x^{4}$"
      ],
      "text/plain": [
       "x**4"
      ]
     },
     "execution_count": 147,
     "metadata": {},
     "output_type": "execute_result"
    }
   ],
   "source": [
    "exp = x**4\n",
    "exp"
   ]
  },
  {
   "cell_type": "code",
   "execution_count": 148,
   "id": "72d830c4",
   "metadata": {},
   "outputs": [
    {
     "data": {
      "text/latex": [
       "$\\displaystyle 4 x^{3}$"
      ],
      "text/plain": [
       "4*x**3"
      ]
     },
     "execution_count": 148,
     "metadata": {},
     "output_type": "execute_result"
    }
   ],
   "source": [
    "diff(exp)"
   ]
  },
  {
   "cell_type": "code",
   "execution_count": 149,
   "id": "412b0751",
   "metadata": {},
   "outputs": [
    {
     "data": {
      "text/latex": [
       "$\\displaystyle 12 x^{2}$"
      ],
      "text/plain": [
       "12*x**2"
      ]
     },
     "execution_count": 149,
     "metadata": {},
     "output_type": "execute_result"
    }
   ],
   "source": [
    "diff(exp , x,2)"
   ]
  },
  {
   "cell_type": "code",
   "execution_count": 150,
   "id": "eef53e73",
   "metadata": {},
   "outputs": [
    {
     "data": {
      "text/latex": [
       "$\\displaystyle 24 x$"
      ],
      "text/plain": [
       "24*x"
      ]
     },
     "execution_count": 150,
     "metadata": {},
     "output_type": "execute_result"
    }
   ],
   "source": [
    "diff(exp , x,3)"
   ]
  },
  {
   "cell_type": "code",
   "execution_count": 151,
   "id": "66b9dc1f",
   "metadata": {},
   "outputs": [
    {
     "data": {
      "text/latex": [
       "$\\displaystyle 24$"
      ],
      "text/plain": [
       "24"
      ]
     },
     "execution_count": 151,
     "metadata": {},
     "output_type": "execute_result"
    }
   ],
   "source": [
    "diff(exp , x,4)"
   ]
  },
  {
   "cell_type": "code",
   "execution_count": 152,
   "id": "75efadc0",
   "metadata": {},
   "outputs": [
    {
     "data": {
      "text/latex": [
       "$\\displaystyle \\frac{d}{d x} \\left(x \\sin{\\left(x^{2} \\right)} + 1\\right)$"
      ],
      "text/plain": [
       "Derivative(x*sin(x**2) + 1, x)"
      ]
     },
     "execution_count": 152,
     "metadata": {},
     "output_type": "execute_result"
    }
   ],
   "source": [
    "from sympy import Derivative  # with the help of this it shows step by step\n",
    "exp = x*sin(x*x)+1\n",
    "d =Derivative(exp)\n",
    "d"
   ]
  },
  {
   "cell_type": "code",
   "execution_count": 153,
   "id": "91863c8c",
   "metadata": {},
   "outputs": [
    {
     "data": {
      "text/latex": [
       "$\\displaystyle 2 x^{2} \\cos{\\left(x^{2} \\right)} + \\sin{\\left(x^{2} \\right)}$"
      ],
      "text/plain": [
       "2*x**2*cos(x**2) + sin(x**2)"
      ]
     },
     "execution_count": 153,
     "metadata": {},
     "output_type": "execute_result"
    }
   ],
   "source": [
    "d.doit()          # d is variable where we assign doit function with help of this it solves the equation."
   ]
  },
  {
   "cell_type": "code",
   "execution_count": 158,
   "id": "bb8dccb5",
   "metadata": {},
   "outputs": [
    {
     "data": {
      "text/latex": [
       "$\\displaystyle \\frac{d}{d x} \\left(2 x^{2} + 20 x - 22\\right)$"
      ],
      "text/plain": [
       "Derivative(2*x**2 + 20*x - 22, x)"
      ]
     },
     "execution_count": 158,
     "metadata": {},
     "output_type": "execute_result"
    }
   ],
   "source": [
    "exp1 = 2*x**2+20*x -22\n",
    "d =Derivative(exp1)\n",
    "d"
   ]
  },
  {
   "cell_type": "code",
   "execution_count": 159,
   "id": "5cc6aee8",
   "metadata": {},
   "outputs": [
    {
     "data": {
      "text/latex": [
       "$\\displaystyle 4 x + 20$"
      ],
      "text/plain": [
       "4*x + 20"
      ]
     },
     "execution_count": 159,
     "metadata": {},
     "output_type": "execute_result"
    }
   ],
   "source": [
    "d.doit()"
   ]
  },
  {
   "cell_type": "code",
   "execution_count": 157,
   "id": "be782361",
   "metadata": {},
   "outputs": [
    {
     "data": {
      "text/latex": [
       "$\\displaystyle - 2 x \\sin{\\left(x^{2} \\right)}$"
      ],
      "text/plain": [
       "-2*x*sin(x**2)"
      ]
     },
     "execution_count": 157,
     "metadata": {},
     "output_type": "execute_result"
    }
   ],
   "source": [
    "f = cos(x**2)\n",
    "derivative_f = f.diff(x) # diff means differentiation of f with respect to x.\n",
    "derivative_f"
   ]
  },
  {
   "cell_type": "code",
   "execution_count": 161,
   "id": "52edc7bc",
   "metadata": {},
   "outputs": [
    {
     "data": {
      "text/latex": [
       "$\\displaystyle 4 x^{3} + y^{4}$"
      ],
      "text/plain": [
       "4*x**3 + y**4"
      ]
     },
     "execution_count": 161,
     "metadata": {},
     "output_type": "execute_result"
    }
   ],
   "source": [
    "f = x**4+x*y**4\n",
    "derivative_f = f.diff(x)\n",
    "derivative_f"
   ]
  },
  {
   "cell_type": "code",
   "execution_count": 162,
   "id": "9d1d69f9",
   "metadata": {},
   "outputs": [
    {
     "data": {
      "text/latex": [
       "$\\displaystyle 4 x y^{3}$"
      ],
      "text/plain": [
       "4*x*y**3"
      ]
     },
     "execution_count": 162,
     "metadata": {},
     "output_type": "execute_result"
    }
   ],
   "source": [
    "f = x**4+x*y**4\n",
    "derivative_f = f.diff(y)\n",
    "derivative_f"
   ]
  },
  {
   "cell_type": "code",
   "execution_count": 163,
   "id": "13b33cc2",
   "metadata": {},
   "outputs": [
    {
     "data": {
      "text/latex": [
       "$\\displaystyle 4 y^{3}$"
      ],
      "text/plain": [
       "4*y**3"
      ]
     },
     "execution_count": 163,
     "metadata": {},
     "output_type": "execute_result"
    }
   ],
   "source": [
    "f = x**4+x*y**4\n",
    "derivative_f = f.diff(x,y)\n",
    "derivative_f"
   ]
  },
  {
   "cell_type": "code",
   "execution_count": 164,
   "id": "1e323456",
   "metadata": {},
   "outputs": [
    {
     "data": {
      "text/latex": [
       "$\\displaystyle x - y = 0$"
      ],
      "text/plain": [
       "Eq(x - y, 0)"
      ]
     },
     "execution_count": 164,
     "metadata": {},
     "output_type": "execute_result"
    }
   ],
   "source": [
    "Eq(x-y,0) # simply it shows the equation x-y = 0"
   ]
  },
  {
   "cell_type": "code",
   "execution_count": 165,
   "id": "5eccf95f",
   "metadata": {},
   "outputs": [
    {
     "data": {
      "text/latex": [
       "$\\displaystyle x - y = 5$"
      ],
      "text/plain": [
       "Eq(x - y, 5)"
      ]
     },
     "execution_count": 165,
     "metadata": {},
     "output_type": "execute_result"
    }
   ],
   "source": [
    "Eq(x-y,5)"
   ]
  },
  {
   "cell_type": "code",
   "execution_count": 166,
   "id": "a730a778",
   "metadata": {},
   "outputs": [
    {
     "data": {
      "text/latex": [
       "$\\displaystyle x + y = 8$"
      ],
      "text/plain": [
       "Eq(x + y, 8)"
      ]
     },
     "execution_count": 166,
     "metadata": {},
     "output_type": "execute_result"
    }
   ],
   "source": [
    "Eq(x+y,8)"
   ]
  },
  {
   "cell_type": "code",
   "execution_count": 167,
   "id": "36a1b031",
   "metadata": {},
   "outputs": [
    {
     "data": {
      "text/latex": [
       "$\\displaystyle x^{2} - 9 = 0$"
      ],
      "text/plain": [
       "Eq(x**2 - 9, 0)"
      ]
     },
     "execution_count": 167,
     "metadata": {},
     "output_type": "execute_result"
    }
   ],
   "source": [
    "Eq(x**2-9,0)"
   ]
  },
  {
   "cell_type": "code",
   "execution_count": 168,
   "id": "92f1a680",
   "metadata": {},
   "outputs": [
    {
     "data": {
      "text/latex": [
       "$\\displaystyle \\left\\{-3, 3\\right\\}$"
      ],
      "text/plain": [
       "{-3, 3}"
      ]
     },
     "execution_count": 168,
     "metadata": {},
     "output_type": "execute_result"
    }
   ],
   "source": [
    "solveset(Eq(x**2-9,0),x) # it solves the equation and gives the value of x."
   ]
  },
  {
   "cell_type": "code",
   "execution_count": 169,
   "id": "c17264a1",
   "metadata": {},
   "outputs": [
    {
     "data": {
      "text/latex": [
       "$\\displaystyle x^{2} - 3 x = 6$"
      ],
      "text/plain": [
       "Eq(x**2 - 3*x, 6)"
      ]
     },
     "execution_count": 169,
     "metadata": {},
     "output_type": "execute_result"
    }
   ],
   "source": [
    "Eq(x**2-3*x,6)"
   ]
  },
  {
   "cell_type": "code",
   "execution_count": 170,
   "id": "d39b795c",
   "metadata": {},
   "outputs": [
    {
     "data": {
      "text/latex": [
       "$\\displaystyle \\left\\{\\frac{3}{2} - \\frac{\\sqrt{33}}{2}, \\frac{3}{2} + \\frac{\\sqrt{33}}{2}\\right\\}$"
      ],
      "text/plain": [
       "{3/2 - sqrt(33)/2, 3/2 + sqrt(33)/2}"
      ]
     },
     "execution_count": 170,
     "metadata": {},
     "output_type": "execute_result"
    }
   ],
   "source": [
    "solveset(Eq(x**2-3*x,6),x)"
   ]
  },
  {
   "cell_type": "code",
   "execution_count": 171,
   "id": "fa768c96",
   "metadata": {},
   "outputs": [
    {
     "data": {
      "text/latex": [
       "$\\displaystyle \\left\\{1, 2\\right\\}$"
      ],
      "text/plain": [
       "{1, 2}"
      ]
     },
     "execution_count": 171,
     "metadata": {},
     "output_type": "execute_result"
    }
   ],
   "source": [
    "solveset(Eq(x**2-3*x,-2),x)"
   ]
  },
  {
   "cell_type": "code",
   "execution_count": 174,
   "id": "8b37ad89",
   "metadata": {},
   "outputs": [
    {
     "data": {
      "text/latex": [
       "$\\displaystyle \\left\\{\\left( \\frac{5}{2}, \\  - \\frac{3}{2}\\right)\\right\\}$"
      ],
      "text/plain": [
       "{(5/2, -3/2)}"
      ]
     },
     "execution_count": 174,
     "metadata": {},
     "output_type": "execute_result"
    }
   ],
   "source": [
    "linsolve([Eq(x-y,4),Eq(x+y,1)],(x,y)) # when we have two equations it gives the value of x and y."
   ]
  },
  {
   "cell_type": "code",
   "execution_count": 176,
   "id": "b375fe4a",
   "metadata": {},
   "outputs": [
    {
     "data": {
      "text/latex": [
       "$\\displaystyle \\left\\{\\left( \\frac{19}{26}, \\  - \\frac{3}{26}\\right)\\right\\}$"
      ],
      "text/plain": [
       "{(19/26, -3/26)}"
      ]
     },
     "execution_count": 176,
     "metadata": {},
     "output_type": "execute_result"
    }
   ],
   "source": [
    "linsolve([Eq(5*x-3*y,4),Eq(2*x+4*y,1)],(x,y))"
   ]
  },
  {
   "cell_type": "code",
   "execution_count": 177,
   "id": "2276bdeb",
   "metadata": {},
   "outputs": [
    {
     "data": {
      "text/latex": [
       "$\\displaystyle a^{2} + a = 0$"
      ],
      "text/plain": [
       "Eq(a**2 + a, 0)"
      ]
     },
     "execution_count": 177,
     "metadata": {},
     "output_type": "execute_result"
    }
   ],
   "source": [
    "Eq(a**2+a,0)"
   ]
  },
  {
   "cell_type": "code",
   "execution_count": 178,
   "id": "26b95c16",
   "metadata": {},
   "outputs": [
    {
     "data": {
      "text/latex": [
       "$\\displaystyle a - b = 0$"
      ],
      "text/plain": [
       "Eq(a - b, 0)"
      ]
     },
     "execution_count": 178,
     "metadata": {},
     "output_type": "execute_result"
    }
   ],
   "source": [
    "Eq(a-b,0)"
   ]
  },
  {
   "cell_type": "code",
   "execution_count": 179,
   "id": "932eb588",
   "metadata": {},
   "outputs": [
    {
     "data": {
      "text/latex": [
       "$\\displaystyle \\left\\{\\left( -1, \\  -1\\right), \\left( 0, \\  0\\right)\\right\\}$"
      ],
      "text/plain": [
       "{(-1, -1), (0, 0)}"
      ]
     },
     "execution_count": 179,
     "metadata": {},
     "output_type": "execute_result"
    }
   ],
   "source": [
    "nonlinsolve([a**2+a,a-b],[a,b]) # for nonlinear line"
   ]
  },
  {
   "cell_type": "code",
   "execution_count": 182,
   "id": "dbce4e00",
   "metadata": {},
   "outputs": [
    {
     "data": {
      "text/latex": [
       "$\\displaystyle \\left\\{\\left( - \\frac{1}{2}, \\  -2\\right), \\left( 0, \\  0\\right)\\right\\}$"
      ],
      "text/plain": [
       "{(-1/2, -2), (0, 0)}"
      ]
     },
     "execution_count": 182,
     "metadata": {},
     "output_type": "execute_result"
    }
   ],
   "source": [
    "nonlinsolve([4*a**2+2*a,4*a-b],[a,b])"
   ]
  },
  {
   "cell_type": "code",
   "execution_count": 183,
   "id": "c6093fcc",
   "metadata": {},
   "outputs": [
    {
     "data": {
      "text/latex": [
       "$\\displaystyle \\left\\{\\left( -1, \\  - \\frac{1}{2}\\right), \\left( 0, \\  0\\right)\\right\\}$"
      ],
      "text/plain": [
       "{(-1, -1/2), (0, 0)}"
      ]
     },
     "execution_count": 183,
     "metadata": {},
     "output_type": "execute_result"
    }
   ],
   "source": [
    "nonlinsolve([3*a**2+3*a,a-2*b],[a,b])"
   ]
  },
  {
   "cell_type": "code",
   "execution_count": 185,
   "id": "99a967bf",
   "metadata": {},
   "outputs": [
    {
     "name": "stdout",
     "output_type": "stream",
     "text": [
      "Requirement already satisfied: pulp in c:\\users\\thaku\\anaconda3\\lib\\site-packages (2.6.0)Note: you may need to restart the kernel to use updated packages.\n",
      "\n"
     ]
    }
   ],
   "source": [
    "pip install pulp"
   ]
  },
  {
   "cell_type": "code",
   "execution_count": 186,
   "id": "a65446c2",
   "metadata": {},
   "outputs": [],
   "source": [
    "import pulp as p # PuLP is a python library which can be used to solve linear programming problems"
   ]
  },
  {
   "cell_type": "code",
   "execution_count": 188,
   "id": "3b3a587f",
   "metadata": {},
   "outputs": [
    {
     "name": "stdout",
     "output_type": "stream",
     "text": [
      "Problem:\n",
      "MAXIMIZE\n",
      "8*x + 1*y + 0\n",
      "SUBJECT TO\n",
      "_C1: x + y <= 40\n",
      "\n",
      "_C2: 2 x + y <= 60\n",
      "\n",
      "VARIABLES\n",
      "x Continuous\n",
      "y Continuous\n",
      "\n"
     ]
    }
   ],
   "source": [
    "Lp_prob = p.LpProblem('Problem',p.LpMaximize)\n",
    "x =p.LpVariable(\"x\",lowBound = 0)\n",
    "y =p.LpVariable(\"y\",lowBound = 0)\n",
    "#objective\n",
    "Lp_prob += 8*x +y \n",
    "#constraints\n",
    "Lp_prob += x +y <=40\n",
    "Lp_prob += 2*x +y <=60\n",
    "print(Lp_prob)"
   ]
  },
  {
   "cell_type": "code",
   "execution_count": 189,
   "id": "f952ac6f",
   "metadata": {},
   "outputs": [
    {
     "data": {
      "text/plain": [
       "1"
      ]
     },
     "execution_count": 189,
     "metadata": {},
     "output_type": "execute_result"
    }
   ],
   "source": [
    "status =Lp_prob.solve()\n",
    "status"
   ]
  },
  {
   "cell_type": "code",
   "execution_count": 191,
   "id": "fdd81204",
   "metadata": {},
   "outputs": [
    {
     "name": "stdout",
     "output_type": "stream",
     "text": [
      "Optimal\n"
     ]
    }
   ],
   "source": [
    "print(p.LpStatus[status])"
   ]
  },
  {
   "cell_type": "code",
   "execution_count": 192,
   "id": "127a59d4",
   "metadata": {},
   "outputs": [
    {
     "name": "stdout",
     "output_type": "stream",
     "text": [
      "optimal value of x : 30.0\n",
      "optimal value of y : 0.0\n",
      "optimal value of objective function : 240.0\n"
     ]
    }
   ],
   "source": [
    "print(\"optimal value of x :\" , p.value(x))\n",
    "print(\"optimal value of y :\" , p.value(y))\n",
    "print(\"optimal value of objective function :\" , p.value(Lp_prob.objective))"
   ]
  },
  {
   "cell_type": "code",
   "execution_count": 210,
   "id": "cd2b9bf6",
   "metadata": {},
   "outputs": [
    {
     "name": "stdout",
     "output_type": "stream",
     "text": [
      "Problem:\n",
      "MINIMIZE\n",
      "3*x + 5*y + 0\n",
      "SUBJECT TO\n",
      "_C1: 2 x + 3 y >= 12\n",
      "\n",
      "_C2: - x + y <= 3\n",
      "\n",
      "_C3: x >= 4\n",
      "\n",
      "_C4: y <= 3\n",
      "\n",
      "VARIABLES\n",
      "x Continuous\n",
      "y Continuous\n",
      "\n"
     ]
    }
   ],
   "source": [
    "Lp_prob1 = p.LpProblem('Problem',p.LpMinimize)\n",
    "x =p.LpVariable(\"x\",lowBound = 0)\n",
    "y =p.LpVariable(\"y\",lowBound = 0)\n",
    "#objective\n",
    "Lp_prob1 += 3*x +5*y\n",
    "#constraints\n",
    "Lp_prob1 += 2*x +3*y >= 12\n",
    "Lp_prob1 += -x +y <=3\n",
    "Lp_prob1 += x >=4\n",
    "Lp_prob1 += y<=3\n",
    "print(Lp_prob1)"
   ]
  },
  {
   "cell_type": "code",
   "execution_count": 211,
   "id": "0583ee7d",
   "metadata": {},
   "outputs": [
    {
     "data": {
      "text/plain": [
       "1"
      ]
     },
     "execution_count": 211,
     "metadata": {},
     "output_type": "execute_result"
    }
   ],
   "source": [
    "status =Lp_prob1.solve()\n",
    "status"
   ]
  },
  {
   "cell_type": "code",
   "execution_count": 212,
   "id": "07b6a261",
   "metadata": {},
   "outputs": [
    {
     "name": "stdout",
     "output_type": "stream",
     "text": [
      "Optimal\n"
     ]
    }
   ],
   "source": [
    "print(p.LpStatus[status])"
   ]
  },
  {
   "cell_type": "code",
   "execution_count": 213,
   "id": "6b9a5a7a",
   "metadata": {},
   "outputs": [
    {
     "name": "stdout",
     "output_type": "stream",
     "text": [
      "optimal value of x : 6.0\n",
      "optimal value of y : 0.0\n",
      "optimal value of objective function : 18.0\n"
     ]
    }
   ],
   "source": [
    "print(\"optimal value of x :\" , p.value(x))\n",
    "print(\"optimal value of y :\" , p.value(y))\n",
    "print(\"optimal value of objective function :\" , p.value(Lp_prob1.objective))"
   ]
  },
  {
   "cell_type": "code",
   "execution_count": 214,
   "id": "cbf815dd",
   "metadata": {},
   "outputs": [
    {
     "name": "stdout",
     "output_type": "stream",
     "text": [
      "Problem:\n",
      "MAXIMIZE\n",
      "1*x + 1*y + 0\n",
      "SUBJECT TO\n",
      "_C1: 200 x + 100 y <= 5000\n",
      "\n",
      "_C2: 25 x + 50 y <= 1000\n",
      "\n",
      "VARIABLES\n",
      "x Continuous\n",
      "y Continuous\n",
      "\n"
     ]
    }
   ],
   "source": [
    "Lp_prob = p.LpProblem('Problem',p.LpMaximize)\n",
    "x =p.LpVariable(\"x\",lowBound = 0)\n",
    "y =p.LpVariable(\"y\",lowBound = 0)\n",
    "#objective\n",
    "Lp_prob += x +y\n",
    "#constraints\n",
    "Lp_prob += 200*x +100*y<=5000\n",
    "Lp_prob += 25*x +50*y<=1000\n",
    "print(Lp_prob)"
   ]
  },
  {
   "cell_type": "code",
   "execution_count": 215,
   "id": "0ea2daaf",
   "metadata": {},
   "outputs": [
    {
     "data": {
      "text/plain": [
       "1"
      ]
     },
     "execution_count": 215,
     "metadata": {},
     "output_type": "execute_result"
    }
   ],
   "source": [
    "status =Lp_prob.solve()\n",
    "status"
   ]
  },
  {
   "cell_type": "code",
   "execution_count": 204,
   "id": "a42e20f9",
   "metadata": {},
   "outputs": [
    {
     "name": "stdout",
     "output_type": "stream",
     "text": [
      "Unbounded\n"
     ]
    }
   ],
   "source": [
    "print(p.LpStatus[status])"
   ]
  },
  {
   "cell_type": "code",
   "execution_count": 216,
   "id": "c7a14db7",
   "metadata": {},
   "outputs": [
    {
     "name": "stdout",
     "output_type": "stream",
     "text": [
      "optimal value of x : 20.0\n",
      "optimal value of y : 10.0\n",
      "optimal value of objective function : 30.0\n"
     ]
    }
   ],
   "source": [
    "print(\"optimal value of x :\" , p.value(x))\n",
    "print(\"optimal value of y :\" , p.value(y))\n",
    "print(\"optimal value of objective function :\" , p.value(Lp_prob.objective))"
   ]
  },
  {
   "cell_type": "code",
   "execution_count": null,
   "id": "86b82912",
   "metadata": {},
   "outputs": [],
   "source": []
  }
 ],
 "metadata": {
  "kernelspec": {
   "display_name": "Python 3 (ipykernel)",
   "language": "python",
   "name": "python3"
  },
  "language_info": {
   "codemirror_mode": {
    "name": "ipython",
    "version": 3
   },
   "file_extension": ".py",
   "mimetype": "text/x-python",
   "name": "python",
   "nbconvert_exporter": "python",
   "pygments_lexer": "ipython3",
   "version": "3.9.12"
  }
 },
 "nbformat": 4,
 "nbformat_minor": 5
}
